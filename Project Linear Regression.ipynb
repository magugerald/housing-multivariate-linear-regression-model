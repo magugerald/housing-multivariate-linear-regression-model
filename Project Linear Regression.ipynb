{
 "cells": [
  {
   "cell_type": "markdown",
   "id": "8b0c1ea4",
   "metadata": {},
   "source": [
    " #                                        Linear Regression"
   ]
  },
  {
   "cell_type": "markdown",
   "id": "a5e1e668",
   "metadata": {},
   "source": [
    "The task aimed to create simple linear regression models and a multivariate linear regression model using a housing dataset. The dataset contained 6 variables (PRICE, HEIGHT, WIDTH, SIGNED, PICTURE, HOUSE) and 431 observations.\n",
    "In the simple linear regression model, two main variables were used for the first model. That is, ‘PRICE’ and ‘WIDTH’ of the house. In the Second model, ‘PRICE’ and ‘SIZE’ were used. The size was established by multiplying the ‘HEIGHT’ and the ‘WIDTH’ variables. \n",
    "For the multivariate regression model, ‘PRICE’ was used as the dependent variable and the rest variables were used as independent variables."
   ]
  },
  {
   "cell_type": "code",
   "execution_count": 2,
   "id": "3fe06992",
   "metadata": {},
   "outputs": [],
   "source": [
    "#importing packages and modules\n",
    "import pandas as pd\n",
    "import numpy as np\n",
    "import seaborn as sns\n",
    "from matplotlib import pyplot as plt\n",
    "%matplotlib inline"
   ]
  },
  {
   "cell_type": "code",
   "execution_count": 2,
   "id": "8498f076",
   "metadata": {},
   "outputs": [],
   "source": [
    "#Importing data\n",
    "monet = pd.read_csv('D:\\\\Python\\\\Datafolder\\\\monet data\\\\monet.csv')"
   ]
  },
  {
   "cell_type": "code",
   "execution_count": 3,
   "id": "da48c215",
   "metadata": {},
   "outputs": [
    {
     "data": {
      "text/html": [
       "<div>\n",
       "<style scoped>\n",
       "    .dataframe tbody tr th:only-of-type {\n",
       "        vertical-align: middle;\n",
       "    }\n",
       "\n",
       "    .dataframe tbody tr th {\n",
       "        vertical-align: top;\n",
       "    }\n",
       "\n",
       "    .dataframe thead th {\n",
       "        text-align: right;\n",
       "    }\n",
       "</style>\n",
       "<table border=\"1\" class=\"dataframe\">\n",
       "  <thead>\n",
       "    <tr style=\"text-align: right;\">\n",
       "      <th></th>\n",
       "      <th>PRICE</th>\n",
       "      <th>HEIGHT</th>\n",
       "      <th>WIDTH</th>\n",
       "      <th>SIGNED</th>\n",
       "      <th>PICTURE</th>\n",
       "      <th>HOUSE</th>\n",
       "    </tr>\n",
       "  </thead>\n",
       "  <tbody>\n",
       "    <tr>\n",
       "      <th>0</th>\n",
       "      <td>3.993780</td>\n",
       "      <td>21.3</td>\n",
       "      <td>25.6</td>\n",
       "      <td>1</td>\n",
       "      <td>1</td>\n",
       "      <td>1</td>\n",
       "    </tr>\n",
       "    <tr>\n",
       "      <th>1</th>\n",
       "      <td>8.800000</td>\n",
       "      <td>31.9</td>\n",
       "      <td>25.6</td>\n",
       "      <td>1</td>\n",
       "      <td>2</td>\n",
       "      <td>2</td>\n",
       "    </tr>\n",
       "    <tr>\n",
       "      <th>2</th>\n",
       "      <td>0.131694</td>\n",
       "      <td>6.9</td>\n",
       "      <td>15.9</td>\n",
       "      <td>0</td>\n",
       "      <td>3</td>\n",
       "      <td>3</td>\n",
       "    </tr>\n",
       "    <tr>\n",
       "      <th>3</th>\n",
       "      <td>2.037500</td>\n",
       "      <td>25.7</td>\n",
       "      <td>32.0</td>\n",
       "      <td>1</td>\n",
       "      <td>4</td>\n",
       "      <td>2</td>\n",
       "    </tr>\n",
       "    <tr>\n",
       "      <th>4</th>\n",
       "      <td>1.487500</td>\n",
       "      <td>25.7</td>\n",
       "      <td>32.0</td>\n",
       "      <td>1</td>\n",
       "      <td>4</td>\n",
       "      <td>2</td>\n",
       "    </tr>\n",
       "  </tbody>\n",
       "</table>\n",
       "</div>"
      ],
      "text/plain": [
       "      PRICE  HEIGHT  WIDTH  SIGNED  PICTURE  HOUSE \n",
       "0  3.993780    21.3   25.6       1        1       1\n",
       "1  8.800000    31.9   25.6       1        2       2\n",
       "2  0.131694     6.9   15.9       0        3       3\n",
       "3  2.037500    25.7   32.0       1        4       2\n",
       "4  1.487500    25.7   32.0       1        4       2"
      ]
     },
     "execution_count": 3,
     "metadata": {},
     "output_type": "execute_result"
    }
   ],
   "source": [
    "monet.head()"
   ]
  },
  {
   "cell_type": "code",
   "execution_count": 4,
   "id": "e0f5cf74",
   "metadata": {},
   "outputs": [
    {
     "name": "stdout",
     "output_type": "stream",
     "text": [
      "<class 'pandas.core.frame.DataFrame'>\n",
      "RangeIndex: 430 entries, 0 to 429\n",
      "Data columns (total 6 columns):\n",
      " #   Column   Non-Null Count  Dtype  \n",
      "---  ------   --------------  -----  \n",
      " 0   PRICE    430 non-null    float64\n",
      " 1   HEIGHT   430 non-null    float64\n",
      " 2   WIDTH    430 non-null    float64\n",
      " 3   SIGNED   430 non-null    int64  \n",
      " 4   PICTURE  430 non-null    int64  \n",
      " 5   HOUSE    430 non-null    int64  \n",
      "dtypes: float64(3), int64(3)\n",
      "memory usage: 20.3 KB\n"
     ]
    }
   ],
   "source": [
    "#Checking data types\n",
    "monet.info()"
   ]
  },
  {
   "cell_type": "code",
   "execution_count": 5,
   "id": "37cb0ce8",
   "metadata": {},
   "outputs": [
    {
     "data": {
      "text/plain": [
       "<AxesSubplot:>"
      ]
     },
     "execution_count": 5,
     "metadata": {},
     "output_type": "execute_result"
    },
    {
     "data": {
      "image/png": "[encoded data removed]",
      "text/plain": [
       "<Figure size 432x288 with 2 Axes>"
      ]
     },
     "metadata": {
      "needs_background": "light"
     },
     "output_type": "display_data"
    }
   ],
   "source": [
    "#Checking if there missing values using a heatmap\n",
    "sns.heatmap(monet.isnull(), yticklabels=False, cmap='viridis')"
   ]
  },
  {
   "cell_type": "markdown",
   "id": "02e41af5",
   "metadata": {},
   "source": [
    "## Training and Testing the Data"
   ]
  },
  {
   "cell_type": "markdown",
   "id": "adf8231a",
   "metadata": {},
   "source": [
    "### First Model"
   ]
  },
  {
   "cell_type": "code",
   "execution_count": 6,
   "id": "8783f996",
   "metadata": {},
   "outputs": [],
   "source": [
    "# Dividing data into independent and dependent variables (X, y)\n",
    "X1 = monet['WIDTH']\n",
    "y1 = monet['PRICE']\n"
   ]
  },
  {
   "cell_type": "code",
   "execution_count": 7,
   "id": "ddd70548",
   "metadata": {},
   "outputs": [],
   "source": [
    "#Changing data in dataframe variables\n",
    "X1=pd.DataFrame(monet['WIDTH'])\n",
    "y1=pd.DataFrame(monet['PRICE'])"
   ]
  },
  {
   "cell_type": "code",
   "execution_count": 8,
   "id": "dffc4e63",
   "metadata": {},
   "outputs": [
    {
     "data": {
      "text/html": [
       "<div>\n",
       "<style scoped>\n",
       "    .dataframe tbody tr th:only-of-type {\n",
       "        vertical-align: middle;\n",
       "    }\n",
       "\n",
       "    .dataframe tbody tr th {\n",
       "        vertical-align: top;\n",
       "    }\n",
       "\n",
       "    .dataframe thead th {\n",
       "        text-align: right;\n",
       "    }\n",
       "</style>\n",
       "<table border=\"1\" class=\"dataframe\">\n",
       "  <thead>\n",
       "    <tr style=\"text-align: right;\">\n",
       "      <th></th>\n",
       "      <th>WIDTH</th>\n",
       "    </tr>\n",
       "  </thead>\n",
       "  <tbody>\n",
       "    <tr>\n",
       "      <th>0</th>\n",
       "      <td>25.6</td>\n",
       "    </tr>\n",
       "    <tr>\n",
       "      <th>1</th>\n",
       "      <td>25.6</td>\n",
       "    </tr>\n",
       "    <tr>\n",
       "      <th>2</th>\n",
       "      <td>15.9</td>\n",
       "    </tr>\n",
       "  </tbody>\n",
       "</table>\n",
       "</div>"
      ],
      "text/plain": [
       "   WIDTH\n",
       "0   25.6\n",
       "1   25.6\n",
       "2   15.9"
      ]
     },
     "execution_count": 8,
     "metadata": {},
     "output_type": "execute_result"
    }
   ],
   "source": [
    "X1.head(3)"
   ]
  },
  {
   "cell_type": "code",
   "execution_count": 9,
   "id": "6849db01",
   "metadata": {},
   "outputs": [
    {
     "data": {
      "text/html": [
       "<div>\n",
       "<style scoped>\n",
       "    .dataframe tbody tr th:only-of-type {\n",
       "        vertical-align: middle;\n",
       "    }\n",
       "\n",
       "    .dataframe tbody tr th {\n",
       "        vertical-align: top;\n",
       "    }\n",
       "\n",
       "    .dataframe thead th {\n",
       "        text-align: right;\n",
       "    }\n",
       "</style>\n",
       "<table border=\"1\" class=\"dataframe\">\n",
       "  <thead>\n",
       "    <tr style=\"text-align: right;\">\n",
       "      <th></th>\n",
       "      <th>PRICE</th>\n",
       "    </tr>\n",
       "  </thead>\n",
       "  <tbody>\n",
       "    <tr>\n",
       "      <th>0</th>\n",
       "      <td>3.993780</td>\n",
       "    </tr>\n",
       "    <tr>\n",
       "      <th>1</th>\n",
       "      <td>8.800000</td>\n",
       "    </tr>\n",
       "    <tr>\n",
       "      <th>2</th>\n",
       "      <td>0.131694</td>\n",
       "    </tr>\n",
       "  </tbody>\n",
       "</table>\n",
       "</div>"
      ],
      "text/plain": [
       "      PRICE\n",
       "0  3.993780\n",
       "1  8.800000\n",
       "2  0.131694"
      ]
     },
     "execution_count": 9,
     "metadata": {},
     "output_type": "execute_result"
    }
   ],
   "source": [
    "y1.head(3)"
   ]
  },
  {
   "cell_type": "code",
   "execution_count": 10,
   "id": "a2ece0fb",
   "metadata": {},
   "outputs": [],
   "source": [
    "# splitting it into training and testing data \n",
    "from sklearn.model_selection import train_test_split\n",
    "\n",
    "X1_train, X1_test, y1_train, y1_test = train_test_split (X1, y1, test_size=0.3, random_state=1)"
   ]
  },
  {
   "cell_type": "code",
   "execution_count": 11,
   "id": "d6423a4b",
   "metadata": {},
   "outputs": [],
   "source": [
    "#Importing the Linear regression algorithm\n",
    "from sklearn.linear_model import LinearRegression\n",
    "\n",
    "lir1model = LinearRegression()"
   ]
  },
  {
   "cell_type": "code",
   "execution_count": 12,
   "id": "bdd6d54f",
   "metadata": {},
   "outputs": [],
   "source": [
    "# Trianing the model\n",
    "TrainedModel1 = lir1model.fit(X1_train, y1_train)"
   ]
  },
  {
   "cell_type": "code",
   "execution_count": 13,
   "id": "3cc6bb83",
   "metadata": {},
   "outputs": [],
   "source": [
    "# Using the model to predict\n",
    "predictions1 = TrainedModel1.predict(X1_test)"
   ]
  },
  {
   "cell_type": "code",
   "execution_count": 14,
   "id": "299ab371",
   "metadata": {},
   "outputs": [
    {
     "data": {
      "text/plain": [
       "array([-1.67749373])"
      ]
     },
     "execution_count": 14,
     "metadata": {},
     "output_type": "execute_result"
    }
   ],
   "source": [
    "TrainedModel1.intercept_"
   ]
  },
  {
   "cell_type": "code",
   "execution_count": 15,
   "id": "2672b165",
   "metadata": {},
   "outputs": [
    {
     "data": {
      "text/plain": [
       "array([[0.14250483]])"
      ]
     },
     "execution_count": 15,
     "metadata": {},
     "output_type": "execute_result"
    }
   ],
   "source": [
    "TrainedModel1.coef_"
   ]
  },
  {
   "cell_type": "code",
   "execution_count": 16,
   "id": "00e9cb0e",
   "metadata": {},
   "outputs": [
    {
     "data": {
      "image/png": "[encoded data removed]",
      "text/plain": [
       "<Figure size 432x288 with 1 Axes>"
      ]
     },
     "metadata": {
      "needs_background": "light"
     },
     "output_type": "display_data"
    }
   ],
   "source": [
    "#Making a scatterplot \n",
    "plt.scatter(X1_test, predictions1, color='blue')\n",
    "plt.plot(X1_train, -1.6775 + 0.1425*X1_train, 'r')\n",
    "plt.title('Plotting Independent against Dependent')\n",
    "plt.xlabel('y1_test', fontsize=14)\n",
    "plt.ylabel('predictions1', fontsize=14)\n",
    "plt.show()\n"
   ]
  },
  {
   "cell_type": "markdown",
   "id": "f431d418",
   "metadata": {},
   "source": [
    "### Checking for the error of prediction"
   ]
  },
  {
   "cell_type": "code",
   "execution_count": 17,
   "id": "c7e2590a",
   "metadata": {},
   "outputs": [
    {
     "data": {
      "text/plain": [
       "22.85283404769865"
      ]
     },
     "execution_count": 17,
     "metadata": {},
     "output_type": "execute_result"
    }
   ],
   "source": [
    "#Checking for the error of prediction\n",
    "from sklearn.metrics import mean_squared_error\n",
    "\n",
    "mean_squared_error(y1_test, predictions1)"
   ]
  },
  {
   "cell_type": "markdown",
   "id": "b98deaf3",
   "metadata": {},
   "source": [
    "## Second Model"
   ]
  },
  {
   "cell_type": "code",
   "execution_count": 18,
   "id": "8bf49954",
   "metadata": {},
   "outputs": [],
   "source": [
    "# Combining two variables(height and width)to form size by multiplication,concatenating dataframes,and dropping height and width\n",
    "SIZE = monet['HEIGHT']*monet['WIDTH']\n",
    "monet1 = pd.concat([monet, SIZE], axis=1, join='outer')\n",
    "monet1 = monet1.rename(columns = {0:'SIZE'})\n",
    "monet1 = monet1.drop(['HEIGHT','WIDTH'], axis=1)"
   ]
  },
  {
   "cell_type": "code",
   "execution_count": 19,
   "id": "997a673a",
   "metadata": {},
   "outputs": [],
   "source": [
    "# Dividing data into independent and dependent variables (X, y)\n",
    "X2 = monet1['SIZE']\n",
    "y2 = monet1['PRICE']\n"
   ]
  },
  {
   "cell_type": "code",
   "execution_count": 20,
   "id": "7b2e2af2",
   "metadata": {},
   "outputs": [],
   "source": [
    "#Changing data in dataframe variables\n",
    "X2=pd.DataFrame(monet1['SIZE'])\n",
    "y2=pd.DataFrame(monet1['PRICE'])"
   ]
  },
  {
   "cell_type": "code",
   "execution_count": 21,
   "id": "a1202eb4",
   "metadata": {},
   "outputs": [
    {
     "data": {
      "text/html": [
       "<div>\n",
       "<style scoped>\n",
       "    .dataframe tbody tr th:only-of-type {\n",
       "        vertical-align: middle;\n",
       "    }\n",
       "\n",
       "    .dataframe tbody tr th {\n",
       "        vertical-align: top;\n",
       "    }\n",
       "\n",
       "    .dataframe thead th {\n",
       "        text-align: right;\n",
       "    }\n",
       "</style>\n",
       "<table border=\"1\" class=\"dataframe\">\n",
       "  <thead>\n",
       "    <tr style=\"text-align: right;\">\n",
       "      <th></th>\n",
       "      <th>SIZE</th>\n",
       "    </tr>\n",
       "  </thead>\n",
       "  <tbody>\n",
       "    <tr>\n",
       "      <th>0</th>\n",
       "      <td>545.28</td>\n",
       "    </tr>\n",
       "    <tr>\n",
       "      <th>1</th>\n",
       "      <td>816.64</td>\n",
       "    </tr>\n",
       "    <tr>\n",
       "      <th>2</th>\n",
       "      <td>109.71</td>\n",
       "    </tr>\n",
       "  </tbody>\n",
       "</table>\n",
       "</div>"
      ],
      "text/plain": [
       "     SIZE\n",
       "0  545.28\n",
       "1  816.64\n",
       "2  109.71"
      ]
     },
     "execution_count": 21,
     "metadata": {},
     "output_type": "execute_result"
    }
   ],
   "source": [
    "X2.head(3)\n"
   ]
  },
  {
   "cell_type": "code",
   "execution_count": 22,
   "id": "0ba26912",
   "metadata": {},
   "outputs": [
    {
     "data": {
      "text/html": [
       "<div>\n",
       "<style scoped>\n",
       "    .dataframe tbody tr th:only-of-type {\n",
       "        vertical-align: middle;\n",
       "    }\n",
       "\n",
       "    .dataframe tbody tr th {\n",
       "        vertical-align: top;\n",
       "    }\n",
       "\n",
       "    .dataframe thead th {\n",
       "        text-align: right;\n",
       "    }\n",
       "</style>\n",
       "<table border=\"1\" class=\"dataframe\">\n",
       "  <thead>\n",
       "    <tr style=\"text-align: right;\">\n",
       "      <th></th>\n",
       "      <th>PRICE</th>\n",
       "    </tr>\n",
       "  </thead>\n",
       "  <tbody>\n",
       "    <tr>\n",
       "      <th>0</th>\n",
       "      <td>3.993780</td>\n",
       "    </tr>\n",
       "    <tr>\n",
       "      <th>1</th>\n",
       "      <td>8.800000</td>\n",
       "    </tr>\n",
       "    <tr>\n",
       "      <th>2</th>\n",
       "      <td>0.131694</td>\n",
       "    </tr>\n",
       "  </tbody>\n",
       "</table>\n",
       "</div>"
      ],
      "text/plain": [
       "      PRICE\n",
       "0  3.993780\n",
       "1  8.800000\n",
       "2  0.131694"
      ]
     },
     "execution_count": 22,
     "metadata": {},
     "output_type": "execute_result"
    }
   ],
   "source": [
    "y2.head(3)"
   ]
  },
  {
   "cell_type": "code",
   "execution_count": 23,
   "id": "4d9782ab",
   "metadata": {},
   "outputs": [],
   "source": [
    "# splitting it into training and testing data \n",
    "from sklearn.model_selection import train_test_split\n",
    "\n",
    "X2_train, X2_test, y2_train, y2_test = train_test_split (X2, y2, test_size=0.3, random_state=1)"
   ]
  },
  {
   "cell_type": "code",
   "execution_count": 24,
   "id": "dd2b4fbb",
   "metadata": {},
   "outputs": [],
   "source": [
    "#Importing the Linear regression algorithm\n",
    "from sklearn.linear_model import LinearRegression\n",
    "\n",
    "lir2model = LinearRegression()"
   ]
  },
  {
   "cell_type": "code",
   "execution_count": 25,
   "id": "2e644938",
   "metadata": {},
   "outputs": [],
   "source": [
    "# Trianing the model\n",
    "TrainedModel2 = lir2model.fit(X2_train, y2_train)"
   ]
  },
  {
   "cell_type": "code",
   "execution_count": 26,
   "id": "aaeb06f9",
   "metadata": {},
   "outputs": [],
   "source": [
    "# Using the model to predict\n",
    "predictions2 = TrainedModel2.predict(X2_test)"
   ]
  },
  {
   "cell_type": "code",
   "execution_count": 27,
   "id": "fb967a5f",
   "metadata": {},
   "outputs": [
    {
     "data": {
      "text/plain": [
       "array([0.85700011])"
      ]
     },
     "execution_count": 27,
     "metadata": {},
     "output_type": "execute_result"
    }
   ],
   "source": [
    "#Checking the intercept\n",
    "TrainedModel2.intercept_"
   ]
  },
  {
   "cell_type": "code",
   "execution_count": 28,
   "id": "f491c47a",
   "metadata": {},
   "outputs": [
    {
     "data": {
      "text/plain": [
       "array([[0.00218331]])"
      ]
     },
     "execution_count": 28,
     "metadata": {},
     "output_type": "execute_result"
    }
   ],
   "source": [
    "#Checking the Coefficient\n",
    "TrainedModel2.coef_"
   ]
  },
  {
   "cell_type": "code",
   "execution_count": 29,
   "id": "66b109b0",
   "metadata": {},
   "outputs": [
    {
     "data": {
      "image/png": "[encoded data removed]",
      "text/plain": [
       "<Figure size 432x288 with 1 Axes>"
      ]
     },
     "metadata": {
      "needs_background": "light"
     },
     "output_type": "display_data"
    }
   ],
   "source": [
    "#Making a scatterplot \n",
    "plt.scatter(X2_test, predictions2, color='blue')\n",
    "plt.plot(X2_train, 0.857 + 0.00218*X2_train, 'r')\n",
    "plt.title('Plotting Independent against Dependent')\n",
    "plt.xlabel('y2_test', fontsize=14)\n",
    "plt.ylabel('predictions2', fontsize=14)\n",
    "plt.show()\n"
   ]
  },
  {
   "cell_type": "markdown",
   "id": "4198fcf2",
   "metadata": {},
   "source": [
    "### Checking for the error of prediction"
   ]
  },
  {
   "cell_type": "code",
   "execution_count": 30,
   "id": "4b1f6238",
   "metadata": {},
   "outputs": [
    {
     "data": {
      "text/plain": [
       "22.892164988583005"
      ]
     },
     "execution_count": 30,
     "metadata": {},
     "output_type": "execute_result"
    }
   ],
   "source": [
    "#Checking for the error of prediction\n",
    "from sklearn.metrics import mean_squared_error\n",
    "\n",
    "mean_squared_error(y2_test, predictions2)"
   ]
  },
  {
   "cell_type": "markdown",
   "id": "e4f62de5",
   "metadata": {},
   "source": [
    "## Multivariate linear regression model"
   ]
  },
  {
   "cell_type": "code",
   "execution_count": 31,
   "id": "47654b03",
   "metadata": {},
   "outputs": [],
   "source": [
    "# Dividing data into independent and dependent variables (X, y)\n",
    "X = monet.drop('PRICE', axis=1)\n",
    "y = monet['PRICE']"
   ]
  },
  {
   "cell_type": "code",
   "execution_count": 32,
   "id": "d3f2e7f9",
   "metadata": {},
   "outputs": [],
   "source": [
    "# splitting it into training and testing data \n",
    "from sklearn.model_selection import train_test_split\n",
    "\n",
    "X_train, X_test, y_train, y_test = train_test_split (X, y, test_size=0.3, random_state=1)"
   ]
  },
  {
   "cell_type": "code",
   "execution_count": 33,
   "id": "829ca08b",
   "metadata": {},
   "outputs": [],
   "source": [
    "#Importing the Linear regression algorithm\n",
    "from sklearn.linear_model import LinearRegression\n",
    "\n",
    "limodel = LinearRegression()"
   ]
  },
  {
   "cell_type": "code",
   "execution_count": 34,
   "id": "0dfae280",
   "metadata": {},
   "outputs": [],
   "source": [
    "# Trianing the model\n",
    "TrainedModel = limodel.fit(X_train, y_train)"
   ]
  },
  {
   "cell_type": "code",
   "execution_count": 35,
   "id": "1ba561bc",
   "metadata": {},
   "outputs": [],
   "source": [
    "# Using the model to predict\n",
    "predictions = TrainedModel.predict(X_test)"
   ]
  },
  {
   "cell_type": "code",
   "execution_count": 36,
   "id": "aeeb8e78",
   "metadata": {},
   "outputs": [
    {
     "name": "stderr",
     "output_type": "stream",
     "text": [
      "C:\\Users\\USER\\anaconda3\\lib\\site-packages\\seaborn\\distributions.py:2619: FutureWarning: `distplot` is a deprecated function and will be removed in a future version. Please adapt your code to use either `displot` (a figure-level function with similar flexibility) or `kdeplot` (an axes-level function for kernel density plots).\n",
      "  warnings.warn(msg, FutureWarning)\n",
      "C:\\Users\\USER\\anaconda3\\lib\\site-packages\\seaborn\\distributions.py:2619: FutureWarning: `distplot` is a deprecated function and will be removed in a future version. Please adapt your code to use either `displot` (a figure-level function with similar flexibility) or `kdeplot` (an axes-level function for kernel density plots).\n",
      "  warnings.warn(msg, FutureWarning)\n"
     ]
    },
    {
     "data": {
      "image/png": "[encoded data removed]",
      "text/plain": [
       "<Figure size 720x432 with 1 Axes>"
      ]
     },
     "metadata": {
      "needs_background": "light"
     },
     "output_type": "display_data"
    }
   ],
   "source": [
    "# Plotting training results against predictions\n",
    "plt.figure(figsize=(10, 6))\n",
    "ax1 = sns.distplot(y_test, hist=False, color=\"r\", label=\"Actual Value\")\n",
    "sns.distplot(predictions, hist=False, color=\"b\", label=\"Predicted Values\" , ax=ax1)\n",
    "plt.title('Plotting Actual results against Predictions')\n",
    "plt.xlabel('Actual Value')\n",
    "plt.ylabel('Predicted Values')\n",
    "plt.legend(loc=\"upper right\")\n",
    "plt.show()\n",
    "plt.close()"
   ]
  },
  {
   "cell_type": "markdown",
   "id": "c64f66f0",
   "metadata": {},
   "source": [
    "### Checking for the error of prediction"
   ]
  },
  {
   "cell_type": "code",
   "execution_count": 37,
   "id": "d4a6e236",
   "metadata": {},
   "outputs": [
    {
     "data": {
      "text/plain": [
       "21.180552851146015"
      ]
     },
     "execution_count": 37,
     "metadata": {},
     "output_type": "execute_result"
    }
   ],
   "source": [
    "#Checking for the error of prediction\n",
    "from sklearn.metrics import mean_squared_error\n",
    "\n",
    "mean_squared_error(y_test, predictions)\n"
   ]
  },
  {
   "cell_type": "markdown",
   "id": "d8ac6d24",
   "metadata": {},
   "source": [
    "## The End"
   ]
  }
 ],
 "metadata": {
  "kernelspec": {
   "display_name": "Python 3 (ipykernel)",
   "language": "python",
   "name": "python3"
  },
  "language_info": {
   "codemirror_mode": {
    "name": "ipython",
    "version": 3
   },
   "file_extension": ".py",
   "mimetype": "text/x-python",
   "name": "python",
   "nbconvert_exporter": "python",
   "pygments_lexer": "ipython3",
   "version": "3.9.7"
  }
 },
 "nbformat": 4,
 "nbformat_minor": 5
}
